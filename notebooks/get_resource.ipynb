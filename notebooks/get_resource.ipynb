[![Open In Colab](https://colab.research.google.com/assets/colab-badge.svg)](https://colab.research.google.com/github/onroerenderfgoed/scriptorium/blob/master/notebooks/get_resource.ipynb)

#Accessing a resource

Accessing a REST resource through Python is very easy when using the Requests
library. It's a very flexible library that will make our lives fairly easy.

