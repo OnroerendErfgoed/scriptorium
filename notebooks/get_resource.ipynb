{
  "nbformat": 4,
  "nbformat_minor": 0,
  "metadata": {
    "colab": {
      "name": "LesAntwerpen.ipynb",
      "provenance": [],
      "authorship_tag": "ABX9TyObzJrv6jXmfeGJrI2Q8pby",
      "include_colab_link": true
    },
    "kernelspec": {
      "name": "python3",
      "display_name": "Python 3"
    },
    "language_info": {
      "name": "python"
    }
  },
  "cells": [
    {
      "cell_type": "markdown",
      "metadata": {
        "id": "view-in-github",
        "colab_type": "text"
      },
      "source": [
        "<a href=\"https://colab.research.google.com/github/OnroerendErfgoed/scriptorium/blob/main/notebooks/get_resource.ipynb\" target=\"_parent\"><img src=\"https://colab.research.google.com/assets/colab-badge.svg\" alt=\"Open In Colab\"/></a>"
      ]
    },
    {
      "cell_type": "markdown",
      "source": [
        "#Accessing a resource\n",
        "\n",
        "Accessing a REST resource through Python is very easy when using the Requests\n",
        "library. It's a very flexible library that will make our lives a lot easier.\n",
        "\n",
        "The basic idea consists of making a request and reading data from the response. When accessing the Onroerend Erfgoed webservices, the data will almost always be transferred as JSON."
      ],
      "metadata": {
        "id": "qoD3gFpUHkEt"
      }
    },
    {
      "cell_type": "code",
      "metadata": {
        "id": "fPP5UqSshRZM"
      },
      "source": [
        "import requests\n",
        "import json\n",
        "\n",
        "# Make a request and store the response\n",
        "response = requests.get(\n",
        "    'https://id.erfgoed.net/erfgoedobjecten/200498',\n",
        "    headers = {'Accept': 'application/json'}\n",
        ")\n",
        "\n",
        "# Turn the response's JSON data into a Python dictionary\n",
        "data = response.json()\n",
        "\n",
        "# Print the response's JSON data\n",
        "print(json.dumps(data, sort_keys=True, indent=4))"
      ],
      "execution_count": null,
      "outputs": []
    },
    {
      "cell_type": "markdown",
      "source": [
        "This example ask for erfgoedobject 200498, the [Red Star Line buildings](https://inventaris.onroerenderfgoed.be/erfgoedobjecten/200498). It returns all data available on this object.\n",
        "\n",
        "The Inventaris makes a distinction between three main types of objects:\n",
        "* **Erfgoedobjecten** (heritage objects): Parts of our heritage, seen in a way that makes sense to humans. By definition somewhat vague.\n",
        "* **Aanduidingsobjecten** (designation objects): Pars of our heritage, but seen in a legal way. Heritage as it is known to law. By defnition very precise.\n",
        "* **Waarnemingen** (observations): Observations concering heritage. Things that were seen, but they might not necessary (still) have heritage value. Mainly used for archaological information.\n",
        "\n",
        "More information about the [distinction between Erfgoedobject and Aanduidingsobject](https://onroerenderfgoed.github.io/posts/2019/inventaris-erfgoedobjecten-aanduidingsobjecten/).\n",
        "\n",
        "\n"
      ],
      "metadata": {
        "id": "FqqbjuhQKyUR"
      }
    }
  ]
}