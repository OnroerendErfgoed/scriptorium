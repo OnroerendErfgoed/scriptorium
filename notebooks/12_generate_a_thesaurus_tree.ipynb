{
  "nbformat": 4,
  "nbformat_minor": 0,
  "metadata": {
    "colab": {
      "name": "Untitled2.ipynb",
      "provenance": [],
      "authorship_tag": "ABX9TyOoetVaOWyYsiQFTN09tzhY",
      "include_colab_link": true
    },
    "kernelspec": {
      "name": "python3",
      "display_name": "Python 3"
    },
    "language_info": {
      "name": "python"
    }
  },
  "cells": [
    {
      "cell_type": "markdown",
      "metadata": {
        "id": "view-in-github",
        "colab_type": "text"
      },
      "source": [
        "<a href=\"https://colab.research.google.com/github/OnroerendErfgoed/scriptorium/blob/main/notebooks/12_generate_a_thesaurus_tree.ipynb\" target=\"_parent\"><img src=\"https://colab.research.google.com/assets/colab-badge.svg\" alt=\"Open In Colab\"/></a>"
      ]
    },
    {
      "cell_type": "markdown",
      "source": [
        "# Generating a thesaurus tree\n",
        "\n",
        "For this script we use the skosprovider_atramhasis library to have easier access to the [Flanders Heritage thesauri](https://thesaurus.onroerenderfgoed)."
      ],
      "metadata": {
        "id": "cVGXFm4iUk0f"
      }
    },
    {
      "cell_type": "code",
      "source": [
        "!pip install skosprovider_atramhasis"
      ],
      "metadata": {
        "id": "LXos2BQCFKGQ"
      },
      "execution_count": null,
      "outputs": []
    },
    {
      "cell_type": "code",
      "execution_count": 25,
      "metadata": {
        "colab": {
          "base_uri": "https://localhost:8080/",
          "height": 729
        },
        "id": "MMRlw6ekC7vd",
        "outputId": "dac34e46-1f56-4867-d6b2-d108dc5d1648"
      },
      "outputs": [
        {
          "output_type": "display_data",
          "data": {
            "text/plain": [
              "<IPython.core.display.Markdown object>"
            ],
            "text/markdown": "#Erfgoedtypes\n##religieuze gebouwen en complexen (https://id.erfgoed.net/thesauri/erfgoedtypes/359)\n* [kerken](https://id.erfgoed.net/thesauri/erfgoedtypes/1005) ([2054](https://inventaris.onroerenderfgoed.be/erfgoedobjecten?typologie=1005) erfgoedobjecten, [1155](https://inventaris.onroerenderfgoed.be/aanduidingsobjecten?typologie=1005&geldig=1&categorie=beschermingen) aanduidingsobjecten)\n * [katholieke kerken](https://id.erfgoed.net/thesauri/erfgoedtypes/230) ([2005](https://inventaris.onroerenderfgoed.be/erfgoedobjecten?typologie=230) erfgoedobjecten, [1145](https://inventaris.onroerenderfgoed.be/aanduidingsobjecten?typologie=230&geldig=1&categorie=beschermingen) aanduidingsobjecten)\n  * [kloosterkerken](https://id.erfgoed.net/thesauri/erfgoedtypes/242) ([120](https://inventaris.onroerenderfgoed.be/erfgoedobjecten?typologie=242) erfgoedobjecten, [84](https://inventaris.onroerenderfgoed.be/aanduidingsobjecten?typologie=242&geldig=1&categorie=beschermingen) aanduidingsobjecten)\n  * [bedevaartkerken](https://id.erfgoed.net/thesauri/erfgoedtypes/47) ([33](https://inventaris.onroerenderfgoed.be/erfgoedobjecten?typologie=47) erfgoedobjecten, [18](https://inventaris.onroerenderfgoed.be/aanduidingsobjecten?typologie=47&geldig=1&categorie=beschermingen) aanduidingsobjecten)\n  * [noodkerken](https://id.erfgoed.net/thesauri/erfgoedtypes/308) ([20](https://inventaris.onroerenderfgoed.be/erfgoedobjecten?typologie=308) erfgoedobjecten, [1](https://inventaris.onroerenderfgoed.be/aanduidingsobjecten?typologie=308&geldig=1&categorie=beschermingen) aanduidingsobjecten)\n  * [kathedralen](https://id.erfgoed.net/thesauri/erfgoedtypes/226) ([7](https://inventaris.onroerenderfgoed.be/erfgoedobjecten?typologie=226) erfgoedobjecten, [8](https://inventaris.onroerenderfgoed.be/aanduidingsobjecten?typologie=226&geldig=1&categorie=beschermingen) aanduidingsobjecten)\n  * [kapittelkerken](https://id.erfgoed.net/thesauri/erfgoedtypes/218) ([29](https://inventaris.onroerenderfgoed.be/erfgoedobjecten?typologie=218) erfgoedobjecten, [22](https://inventaris.onroerenderfgoed.be/aanduidingsobjecten?typologie=218&geldig=1&categorie=beschermingen) aanduidingsobjecten)\n  * [basilieken](https://id.erfgoed.net/thesauri/erfgoedtypes/772) ([8](https://inventaris.onroerenderfgoed.be/erfgoedobjecten?typologie=772) erfgoedobjecten, [8](https://inventaris.onroerenderfgoed.be/aanduidingsobjecten?typologie=772&geldig=1&categorie=beschermingen) aanduidingsobjecten)\n  * [parochiekerken](https://id.erfgoed.net/thesauri/erfgoedtypes/338) ([1792](https://inventaris.onroerenderfgoed.be/erfgoedobjecten?typologie=338) erfgoedobjecten, [992](https://inventaris.onroerenderfgoed.be/aanduidingsobjecten?typologie=338&geldig=1&categorie=beschermingen) aanduidingsobjecten)\n   * [hulpkerken](https://id.erfgoed.net/thesauri/erfgoedtypes/720) ([9](https://inventaris.onroerenderfgoed.be/erfgoedobjecten?typologie=720) erfgoedobjecten, [0](https://inventaris.onroerenderfgoed.be/aanduidingsobjecten?typologie=720&geldig=1&categorie=beschermingen) aanduidingsobjecten)\n  * [begijnhofkerken](https://id.erfgoed.net/thesauri/erfgoedtypes/52) ([21](https://inventaris.onroerenderfgoed.be/erfgoedobjecten?typologie=52) erfgoedobjecten, [25](https://inventaris.onroerenderfgoed.be/aanduidingsobjecten?typologie=52&geldig=1&categorie=beschermingen) aanduidingsobjecten)\n  * [abdijkerken](https://id.erfgoed.net/thesauri/erfgoedtypes/6) ([43](https://inventaris.onroerenderfgoed.be/erfgoedobjecten?typologie=6) erfgoedobjecten, [35](https://inventaris.onroerenderfgoed.be/aanduidingsobjecten?typologie=6&geldig=1&categorie=beschermingen) aanduidingsobjecten)\n * [protestantse kerken](https://id.erfgoed.net/thesauri/erfgoedtypes/355) ([17](https://inventaris.onroerenderfgoed.be/erfgoedobjecten?typologie=355) erfgoedobjecten, [11](https://inventaris.onroerenderfgoed.be/aanduidingsobjecten?typologie=355&geldig=1&categorie=beschermingen) aanduidingsobjecten)\n * [orthodoxe kerken](https://id.erfgoed.net/thesauri/erfgoedtypes/330) ([2](https://inventaris.onroerenderfgoed.be/erfgoedobjecten?typologie=330) erfgoedobjecten, [1](https://inventaris.onroerenderfgoed.be/aanduidingsobjecten?typologie=330&geldig=1&categorie=beschermingen) aanduidingsobjecten)\n* [moskeeën](https://id.erfgoed.net/thesauri/erfgoedtypes/298) ([0](https://inventaris.onroerenderfgoed.be/erfgoedobjecten?typologie=298) erfgoedobjecten, [0](https://inventaris.onroerenderfgoed.be/aanduidingsobjecten?typologie=298&geldig=1&categorie=beschermingen) aanduidingsobjecten)\n* [begijnhoven](https://id.erfgoed.net/thesauri/erfgoedtypes/53) ([28](https://inventaris.onroerenderfgoed.be/erfgoedobjecten?typologie=53) erfgoedobjecten, [44](https://inventaris.onroerenderfgoed.be/aanduidingsobjecten?typologie=53&geldig=1&categorie=beschermingen) aanduidingsobjecten)\n* [kapellen (gebouwen en structuren)](https://id.erfgoed.net/thesauri/erfgoedtypes/513) ([1473](https://inventaris.onroerenderfgoed.be/erfgoedobjecten?typologie=513) erfgoedobjecten, [638](https://inventaris.onroerenderfgoed.be/aanduidingsobjecten?typologie=513&geldig=1&categorie=beschermingen) aanduidingsobjecten)\n * [bedevaartkapellen](https://id.erfgoed.net/thesauri/erfgoedtypes/46) ([143](https://inventaris.onroerenderfgoed.be/erfgoedobjecten?typologie=46) erfgoedobjecten, [106](https://inventaris.onroerenderfgoed.be/aanduidingsobjecten?typologie=46&geldig=1&categorie=beschermingen) aanduidingsobjecten)\n * [kerkhofkapellen](https://id.erfgoed.net/thesauri/erfgoedtypes/231) ([36](https://inventaris.onroerenderfgoed.be/erfgoedobjecten?typologie=231) erfgoedobjecten, [14](https://inventaris.onroerenderfgoed.be/aanduidingsobjecten?typologie=231&geldig=1&categorie=beschermingen) aanduidingsobjecten)\n* [kloosters](https://id.erfgoed.net/thesauri/erfgoedtypes/243) ([1007](https://inventaris.onroerenderfgoed.be/erfgoedobjecten?typologie=243) erfgoedobjecten, [299](https://inventaris.onroerenderfgoed.be/aanduidingsobjecten?typologie=243&geldig=1&categorie=beschermingen) aanduidingsobjecten)\n* [kluizen](https://id.erfgoed.net/thesauri/erfgoedtypes/244) ([18](https://inventaris.onroerenderfgoed.be/erfgoedobjecten?typologie=244) erfgoedobjecten, [8](https://inventaris.onroerenderfgoed.be/aanduidingsobjecten?typologie=244&geldig=1&categorie=beschermingen) aanduidingsobjecten)\n* [cultusplaatsen](https://id.erfgoed.net/thesauri/erfgoedtypes/1116) ([0](https://inventaris.onroerenderfgoed.be/erfgoedobjecten?typologie=1116) erfgoedobjecten, [1](https://inventaris.onroerenderfgoed.be/aanduidingsobjecten?typologie=1116&geldig=1&categorie=beschermingen) aanduidingsobjecten)\n * [landelijke heiligdommen](https://id.erfgoed.net/thesauri/erfgoedtypes/1117) ([0](https://inventaris.onroerenderfgoed.be/erfgoedobjecten?typologie=1117) erfgoedobjecten, [0](https://inventaris.onroerenderfgoed.be/aanduidingsobjecten?typologie=1117&geldig=1&categorie=beschermingen) aanduidingsobjecten)\n * [tempels (archeologisch erfgoed)](https://id.erfgoed.net/thesauri/erfgoedtypes/1119) ([0](https://inventaris.onroerenderfgoed.be/erfgoedobjecten?typologie=1119) erfgoedobjecten, [1](https://inventaris.onroerenderfgoed.be/aanduidingsobjecten?typologie=1119&geldig=1&categorie=beschermingen) aanduidingsobjecten)\n  * [inheems-Romeinse tempels](https://id.erfgoed.net/thesauri/erfgoedtypes/1120) ([0](https://inventaris.onroerenderfgoed.be/erfgoedobjecten?typologie=1120) erfgoedobjecten, [0](https://inventaris.onroerenderfgoed.be/aanduidingsobjecten?typologie=1120&geldig=1&categorie=beschermingen) aanduidingsobjecten)\n * [viereckschanzen](https://id.erfgoed.net/thesauri/erfgoedtypes/1121) ([0](https://inventaris.onroerenderfgoed.be/erfgoedobjecten?typologie=1121) erfgoedobjecten, [0](https://inventaris.onroerenderfgoed.be/aanduidingsobjecten?typologie=1121&geldig=1&categorie=beschermingen) aanduidingsobjecten)\n * [mithraea](https://id.erfgoed.net/thesauri/erfgoedtypes/1118) ([0](https://inventaris.onroerenderfgoed.be/erfgoedobjecten?typologie=1118) erfgoedobjecten, [0](https://inventaris.onroerenderfgoed.be/aanduidingsobjecten?typologie=1118&geldig=1&categorie=beschermingen) aanduidingsobjecten)\n* [synagogen](https://id.erfgoed.net/thesauri/erfgoedtypes/420) ([8](https://inventaris.onroerenderfgoed.be/erfgoedobjecten?typologie=420) erfgoedobjecten, [4](https://inventaris.onroerenderfgoed.be/aanduidingsobjecten?typologie=420&geldig=1&categorie=beschermingen) aanduidingsobjecten)\n* [vrijmetselaarstempels](https://id.erfgoed.net/thesauri/erfgoedtypes/480) ([4](https://inventaris.onroerenderfgoed.be/erfgoedobjecten?typologie=480) erfgoedobjecten, [4](https://inventaris.onroerenderfgoed.be/aanduidingsobjecten?typologie=480&geldig=1&categorie=beschermingen) aanduidingsobjecten)\n* [commanderijen](https://id.erfgoed.net/thesauri/erfgoedtypes/102) ([13](https://inventaris.onroerenderfgoed.be/erfgoedobjecten?typologie=102) erfgoedobjecten, [10](https://inventaris.onroerenderfgoed.be/aanduidingsobjecten?typologie=102&geldig=1&categorie=beschermingen) aanduidingsobjecten)\n* [priorijen](https://id.erfgoed.net/thesauri/erfgoedtypes/354) ([19](https://inventaris.onroerenderfgoed.be/erfgoedobjecten?typologie=354) erfgoedobjecten, [15](https://inventaris.onroerenderfgoed.be/aanduidingsobjecten?typologie=354&geldig=1&categorie=beschermingen) aanduidingsobjecten)\n* [abdijen](https://id.erfgoed.net/thesauri/erfgoedtypes/4) ([89](https://inventaris.onroerenderfgoed.be/erfgoedobjecten?typologie=4) erfgoedobjecten, [82](https://inventaris.onroerenderfgoed.be/aanduidingsobjecten?typologie=4&geldig=1&categorie=beschermingen) aanduidingsobjecten)\n"
          },
          "metadata": {}
        }
      ],
      "source": [
        "#!/usr/bin/python\n",
        "# -*- coding: utf-8 -*-\n",
        "'''\n",
        "This script demonstrates using the AtramhasisProvider connected to https://thesaurus.onroerenderfgoed.be/conceptschemes/ERFGOEDTYPES to print a thesaurus or main branches thereof as a simple rst tree.\n",
        "\n",
        "Optionally, it can query the Flanders Heritage Inventory (https://inventaris.onroerenderfgoed.be) to report on the number of times a certain concept is assigned to erfgoed- or aanduidingsobjecten.\n",
        "'''\n",
        "import requests\n",
        "from IPython.display import display\n",
        "from IPython.display import Markdown\n",
        "\n",
        "from skosprovider_atramhasis.providers import AtramhasisProvider\n",
        "from skosprovider.providers import DictionaryProvider\n",
        "from skosprovider.utils import dict_dumper\n",
        "\n",
        "# Print the entire thesaurus\n",
        "#TOP_CONCEPTS = []\n",
        "# Use to only generate the tree for certain top terms.\n",
        "# TOP_CONCEPTS = [147, 237, 930, 933, 78, 1751]\n",
        "# Only print the tree for RELIGIEUZE GEBOUWEN EN COMPLEXEN\n",
        "TOP_CONCEPTS = [359]\n",
        "\n",
        "# Query the FHA inventory for the number of times these are used?\n",
        "QUERY_USAGE= True\n",
        "\n",
        "# Which language should the thesaurus be displayed in?\n",
        "# (This will generally not provide a lot of results for anything other than nl or nl-BE)\n",
        "LANGUAGE = 'nl-BE'\n",
        "\n",
        "INVENTARIS_HOST = 'https://inventaris.onroerenderfgoed.be/'\n",
        "URL_ERFGOEDOBJECTEN = INVENTARIS_HOST + 'erfgoedobjecten'\n",
        "URL_AANDUIDINGSOBJECTEN = INVENTARIS_HOST + 'aanduidingsobjecten'\n",
        "\n",
        "def find_aantal_erfgoedobjecten(concept_id):\n",
        "\n",
        "    res = requests.get(\n",
        "        URL_ERFGOEDOBJECTEN,\n",
        "        params={'typologie': concept_id},\n",
        "        headers={'accept': 'application/json'}\n",
        "    )\n",
        "    aantal = None\n",
        "    if res.status_code == requests.codes.ok:\n",
        "        if 'Content-Range' in res.headers:\n",
        "            aantal = res.headers['Content-Range'].split('/')[-1]\n",
        "        else:\n",
        "            aantal = 0\n",
        "    return (aantal, res.url)\n",
        "\n",
        "def find_aantal_aanduidingsobjecten(concept_id):\n",
        "    res = requests.get(\n",
        "        URL_AANDUIDINGSOBJECTEN,\n",
        "        params={\n",
        "            'typologie': concept_id,\n",
        "            'geldig': 1,\n",
        "            'categorie': 'beschermingen'\n",
        "        },\n",
        "        headers={'accept': 'application/json'}\n",
        "    )\n",
        "    aantal = None\n",
        "    if res.status_code == requests.codes.ok:\n",
        "        if 'Content-Range' in res.headers:\n",
        "            aantal = res.headers['Content-Range'].split('/')[-1]\n",
        "        else:\n",
        "            aantal = 0\n",
        "    return (aantal, res.url)\n",
        "\n",
        "def list_concepts(items, provider, indent=''):\n",
        "    output = ''\n",
        "    for i in items:\n",
        "        if i['type'] == 'collection':\n",
        "          output += f\"{indent}* <[{i['label']}]({i['uri']})>\\n\"\n",
        "        else:\n",
        "            if QUERY_USAGE:\n",
        "                erfgoedobjecten = find_aantal_erfgoedobjecten(i['id'])\n",
        "                aanduidingsobjecten = find_aantal_aanduidingsobjecten(i['id'])\n",
        "                output += f\"{indent}* [{i['label']}]({i['uri']}) ([{erfgoedobjecten[0]}]({erfgoedobjecten[1]}) erfgoedobjecten, [{aanduidingsobjecten[0]}]({aanduidingsobjecten[1]}) aanduidingsobjecten)\\n\"\n",
        "            else:\n",
        "              output += f\"{indent}* [{i['label']}]({i['uri']})\\n\"\n",
        "\n",
        "        child = provider.get_children_display(\n",
        "            i['id'],\n",
        "            language=LANGUAGE,\n",
        "            sort='label'\n",
        "        )\n",
        "        if (len(child)):\n",
        "            output += list_concepts(child, provider, indent=indent + ' ')\n",
        "    return output\n",
        "\n",
        "def main():\n",
        "    # Keep cache in between runs of the script\n",
        "    # Value is considered valid for 1 day\n",
        "    provider = AtramhasisProvider(\n",
        "        {\n",
        "            'id': 'vioe-erfgoedtypes)',\n",
        "            'uri': 'https://id.erfgoed.net/thesauri/erfgoedtypes'\n",
        "        },\n",
        "        base_url='https://thesaurus.onroerenderfgoed.be',\n",
        "        scheme_id='ERFGOEDTYPES',\n",
        "        cache_config={\n",
        "            'cache.backend': 'dogpile.cache.dbm',\n",
        "            'cache.expiration_time': 60 * 60 * 24,\n",
        "            'cache.arguments.filename': 'erfgoedtypes.dbm'\n",
        "        }\n",
        "    )\n",
        "\n",
        "    thesaurus_title = provider.concept_scheme.label(LANGUAGE).label\n",
        "    output = f'#{thesaurus_title}\\n'\n",
        "\n",
        "    # Fetch only certain top concepts or fetch the entire thesaurus\n",
        "    if len(TOP_CONCEPTS):\n",
        "        top = []\n",
        "        for tcid in TOP_CONCEPTS:\n",
        "            tc = provider.get_by_id(tcid)\n",
        "            top.append({\n",
        "                'id': tc.id,\n",
        "                'uri': tc.uri,\n",
        "                'type': tc.type,\n",
        "                'label': tc.label(LANGUAGE).label\n",
        "            })\n",
        "    else:\n",
        "        top = provider.get_top_display(LANGUAGE,sort='label')\n",
        "\n",
        "    # For each top concept, generate the subtree\n",
        "    for t in top:\n",
        "        if t['type'] == 'collection':\n",
        "          output += f\"##<{t['label']}> ({t['uri']})\\n\"\n",
        "        else:\n",
        "          output += f\"##{t['label']} ({t['uri']})\\n\"\n",
        "\n",
        "        child = provider.get_children_display(\n",
        "            t['id'],\n",
        "            language='nl-BE',\n",
        "            sort='label'\n",
        "        )\n",
        "        output += list_concepts(child, provider)\n",
        "    \n",
        "    display(Markdown(output))\n",
        "\n",
        "if __name__ == \"__main__\":\n",
        "  main()"
      ]
    }
  ]
}