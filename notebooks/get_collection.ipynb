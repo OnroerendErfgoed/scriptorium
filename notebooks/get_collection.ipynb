{
  "nbformat": 4,
  "nbformat_minor": 0,
  "metadata": {
    "colab": {
      "name": "Untitled0.ipynb",
      "provenance": [],
      "authorship_tag": "ABX9TyMWKT7NIcSou+5AAdKrefdN",
      "include_colab_link": true
    },
    "kernelspec": {
      "name": "python3",
      "display_name": "Python 3"
    },
    "language_info": {
      "name": "python"
    }
  },
  "cells": [
    {
      "cell_type": "markdown",
      "metadata": {
        "id": "view-in-github",
        "colab_type": "text"
      },
      "source": [
        "<a href=\"https://colab.research.google.com/github/OnroerendErfgoed/scriptorium/blob/main/notebooks/get_collection.ipynb\" target=\"_parent\"><img src=\"https://colab.research.google.com/assets/colab-badge.svg\" alt=\"Open In Colab\"/></a>"
      ]
    },
    {
      "cell_type": "markdown",
      "source": [
        "# Accessing a collection of resources\n",
        "\n",
        "This notebook show how to access a collection of resources from the Agentschap Onroerend Erfgoed webservices. It assumes you have already mastered the techniques described in the [`get_resource` notebook](https://github.com/OnroerendErfgoed/scriptorium/blob/main/notebooks/get_resource.ipynb).\n",
        "\n",
        "Again we'll be using the Inventaris Onroerend Erfgoed as our example, but the techniques in this notebook could also be applied to the Onroerend Erfgoed Beelbank or Archeologieportaal.\n",
        "\n",
        "The basic idea for accessing a collection is very similar to accesing a resource, we GET a certain URL. But, this time the resources does not reprensent a single resource, but a collection of resources. This has a few consequences:\n",
        "\n",
        "* When accessing a single resource, we receive an *object* that consists of attributes and their values. When accessing a collection, we receive a *list* of objects.\n",
        "* When accessing a single resource, we get all the data on a single object. When accessing a collection, we get a summary of each object in the collection. To get all the data, we need to GET the full resource.\n",
        "* When accessing a collection of resources, it's possible that the collection is to big to send to the client in one go. In this case we divide the collection in smaller pieces, often called *pages*.\n",
        "* When accessing a collection, we often want to *filter* the objects that returned to us. Eg. we do not want the collection of all Erfgoedobject, but a smaller part such as the collection of *all Erfgoedobjecten in Antwerpen*.\n",
        "\n",
        "# A simple example\n",
        "Let's start with a simple example. We'll request the entire collection of Erfgoedobject and output the first page of results we receive.\n",
        "\n",
        "We'll also output how many results there actually are. This information is sent back by the server in the `Content-Range` header. This header will contain a value like `items 0-9/124`. This means we are viewing resources 0 through 9 (the first ten) out of a total of 124 resources.\n"
      ],
      "metadata": {
        "id": "jpQ4dRdIluJq"
      }
    },
    {
      "cell_type": "code",
      "execution_count": null,
      "metadata": {
        "id": "ClVTEspElj8_"
      },
      "outputs": [],
      "source": [
        "# Import requests library to contact the REST service\n",
        "import requests\n",
        "# Import IPython library to produce Markdown\n",
        "import IPython\n",
        "\n",
        "# Create a requests Session\n",
        "session = requests.Session()\n",
        "\n",
        "# Set the default Accept header to `application/json`\n",
        "session.headers.update({'Accept': 'application/json'})\n",
        "\n",
        "# Make a request and store the response\n",
        "response = session.get(\n",
        "    'https://inventaris.onroerenderfgoed.be/erfgoedobjecten'\n",
        ")\n",
        "\n",
        "# Remove the first 6 characters from the header (items )\n",
        "content_range = response.headers['Content-Range'][6:]\n",
        "# The part after the slash is the total number of results\n",
        "number_of_results = content_range.split('/')[1]\n",
        "# Split the part before the slash on `-`, before is the first result in this page\n",
        "start_result = content_range.split('/')[0].split('-')[0].strip()\n",
        "# Split the part before the slash on `-`, after is the last result in this page\n",
        "end_result = content_range.split('/')[0].split('-')[1].strip()\n",
        "\n",
        "# Turn the response's JSON data into a Python dictionary\n",
        "data = response.json()\n",
        "\n",
        "output = f\"**Showing results {start_result} to {end_result} of {number_of_results}**\\n\\n\"\n",
        "for erfgoedobject in data:\n",
        "  output += f\"* {erfgoedobject['naam']} ({erfgoedobject['uri']})\\n\"\n",
        "  output += f\"\\t* *Locatie:* {erfgoedobject['locatie_samenvatting']}\\n\"\n",
        "  output += f\"\\t* *Korte beschrijving:* {erfgoedobject['korte_beschrijving']}\\n\"\n",
        "\n",
        "\n",
        "IPython.display.Markdown(output)"
      ]
    },
    {
      "cell_type": "markdown",
      "source": [
        "# Filtering the collection\n",
        "\n",
        "In our first examples, we're requesting the entire collection, more than 90.000 resources. As can be imagined, this is generally not what we want and accessing the entire collection would be very time consuming. Quite often, we're only interested in a subset of the collection. We might only care about Erfgoedobjecten in a certain gemeente (municipality) or provincie (province) or Erfgoedobjecten of a certain type. \n",
        "\n",
        "To filter a collection, we pass it parameters. These are added to the URl after a question mark `?` and look like `<parameter_name>=<parameter_value>`. When there is more than one parameter, they get sepparated by an ampersand `&`. So, if we pass 2 parameters, we get `?parameter_one=value_one&paramerer_two=value_two`.\n",
        "\n",
        "To know which parameters the server accepts, we consult the API documentation of the server. Generally these can be accessed at `/api_doc`, relative to the server root. Eg. https://inventaris.onroerenderfgoed.be/api_doc or https://beeldbank.onroerenderfgoed.be/api_doc\n",
        "\n",
        "For our second example, we'll limit the results to Erfgoedobjecten that are built heritage (`discipline=2`), that have some form of bescherming (`rechtsgevolgen=beschermd`) and are situated in Ghent (`gemeente=44021`)."
      ],
      "metadata": {
        "id": "6cVLQECmlqfg"
      }
    },
    {
      "cell_type": "code",
      "source": [
        "# Import requests library to contact the REST service\n",
        "import requests\n",
        "# Import IPython library to produce Markdown\n",
        "import IPython\n",
        "\n",
        "# Create a requests Session\n",
        "session = requests.Session()\n",
        "\n",
        "# Set the default Accept header to `application/json`\n",
        "session.headers.update({'Accept': 'application/json'})\n",
        "\n",
        "# Make a request and store the response\n",
        "response = session.get(\n",
        "    'https://inventaris.onroerenderfgoed.be/erfgoedobjecten',\n",
        "    params = {\n",
        "        'gemeente': 44021,\n",
        "        'discipline': 2,\n",
        "        'rechtsgevolgen': 'beschermd'\n",
        "    }\n",
        ")\n",
        "\n",
        "# Remove the first 6 characters from the header (items )\n",
        "content_range = response.headers['Content-Range'][6:]\n",
        "# The part after the slash is the total number of results\n",
        "number_of_results = content_range.split('/')[1]\n",
        "# Split the part before the slash on `-`, before is the first result in this page\n",
        "start_result = content_range.split('/')[0].split('-')[0].strip()\n",
        "# Split the part before the slash on `-`, after is the last result in this page\n",
        "end_result = content_range.split('/')[0].split('-')[1].strip()\n",
        "\n",
        "# Turn the response's JSON data into a Python dictionary\n",
        "data = response.json()\n",
        "\n",
        "# Generate output\n",
        "output = f\"**Showing results {start_result} to {end_result} of {number_of_results}**\\n\\n\"\n",
        "for erfgoedobject in data:\n",
        "  output += f\"* {erfgoedobject['naam']} ({erfgoedobject['uri']})\\n\"\n",
        "  output += f\"\\t* *Locatie:* {erfgoedobject['locatie_samenvatting']}\\n\"\n",
        "  output += f\"\\t* *Korte beschrijving:* {erfgoedobject['korte_beschrijving']}\\n\"\n",
        "\n",
        "\n",
        "IPython.display.Markdown(output)"
      ],
      "metadata": {
        "id": "r4h5SI4R0dC_"
      },
      "execution_count": null,
      "outputs": []
    },
    {
      "cell_type": "markdown",
      "source": [
        "We have reduced our more than 90.000 results to a more manageable 1.300 results. Still a lot, but a closer to a number we can actually do something with. We're still only seeing the first ten results though. Suppose we want to see all those 1.300 results, how do we do that?\n",
        "\n",
        "To access the next page of results we can send and extra parameter to the sever indicatin which page of results we want to see. Our first page contains results 0-9, the second page 10-19, the third 20-29 and so forth. By adding `pagina=2` to the parameters we can fetch this page."
      ],
      "metadata": {
        "id": "u5atmtlJdqWL"
      }
    },
    {
      "cell_type": "code",
      "source": [
        "# Import requests library to contact the REST service\n",
        "import requests\n",
        "# Import IPython library to produce Markdown\n",
        "import IPython\n",
        "\n",
        "# Create a requests Session\n",
        "session = requests.Session()\n",
        "\n",
        "# Set the default Accept header to `application/json`\n",
        "session.headers.update({'Accept': 'application/json'})\n",
        "\n",
        "# Make a request and store the response\n",
        "response = session.get(\n",
        "    'https://inventaris.onroerenderfgoed.be/erfgoedobjecten',\n",
        "    params = {\n",
        "        'gemeente': 44021,\n",
        "        'discipline': 2,\n",
        "        'rechtsgevolgen': 'beschermd',\n",
        "        'pagina': 4\n",
        "    }\n",
        ")\n",
        "\n",
        "# Remove the first 6 characters from the header (items )\n",
        "content_range = response.headers['Content-Range'][6:]\n",
        "# The part after the slash is the total number of results\n",
        "number_of_results = content_range.split('/')[1]\n",
        "# Split the part before the slash on `-`, before is the first result in this page\n",
        "start_result = content_range.split('/')[0].split('-')[0].strip()\n",
        "# Split the part before the slash on `-`, after is the last result in this page\n",
        "end_result = content_range.split('/')[0].split('-')[1].strip()\n",
        "\n",
        "# Turn the response's JSON data into a Python dictionary\n",
        "data = response.json()\n",
        "\n",
        "# Generate output\n",
        "output = f\"**Showing results {start_result} to {end_result} of {number_of_results}**\\n\\n\"\n",
        "for erfgoedobject in data:\n",
        "  output += f\"* {erfgoedobject['naam']} ({erfgoedobject['uri']})\\n\"\n",
        "  output += f\"\\t* *Locatie:* {erfgoedobject['locatie_samenvatting']}\\n\"\n",
        "  output += f\"\\t* *Korte beschrijving:* {erfgoedobject['korte_beschrijving']}\\n\"\n",
        "\n",
        "\n",
        "IPython.display.Markdown(output)"
      ],
      "metadata": {
        "id": "z5LO2Lpoe70q"
      },
      "execution_count": null,
      "outputs": []
    },
    {
      "cell_type": "markdown",
      "source": [
        "This is still somewhat impractical as we are now seeing a different page of results, but still not all results. It also requires us to know that we need to use the `pagina` parameter. An other service might call it `page` or `slice`. Still other services do not use a `page` parameter, but use parameters like `limit` (how many results to return) and `offset` (which result to start returning from). It's hardly fair to expect the user to know what they're supposed to do. Off course they can read the documentation, but most people prefer a more obvious solution. We have adopted the HTTP Link header for this purpose.\n",
        "\n",
        "The `Link` header is a header included in the server's response that gives a list of URL's that point to other parts of the collection we're trying to browse. Every URL provided includes a tag that tells us which page it is: the first, the last, the next or the previous. "
      ],
      "metadata": {
        "id": "2cPGPSDCfJ5t"
      }
    },
    {
      "cell_type": "code",
      "source": [
        "# Import requests library to contact the REST service\n",
        "import requests\n",
        "\n",
        "# Create a requests Session\n",
        "session = requests.Session()\n",
        "\n",
        "# Set the default Accept header to `application/json`\n",
        "session.headers.update({'Accept': 'application/json'})\n",
        "\n",
        "# Make a request and store the response\n",
        "response = session.get(\n",
        "    'https://inventaris.onroerenderfgoed.be/erfgoedobjecten',\n",
        "    params = {\n",
        "        'gemeente': 44021,\n",
        "        'discipline': 2,\n",
        "        'rechtsgevolgen': 'beschermd',\n",
        "        'pagina': 4\n",
        "    }\n",
        ")\n",
        "\n",
        "print(response.headers['Content-Range'])\n",
        "print(response.headers['Link'])"
      ],
      "metadata": {
        "id": "UIO2aU5Zgmkw"
      },
      "execution_count": null,
      "outputs": []
    },
    {
      "cell_type": "markdown",
      "source": [
        "Using these links we can quickly fetch an entire dataset. The Requests library makes things easy on us. It knows about this header and allows us to use it with minimal effort. We'll try that out. For didactic reasons, we'll fetch a smaller set, all built heritage in Knokke-Heist that has some form of \"bescherming\"."
      ],
      "metadata": {
        "id": "5XiuBwTUh6oK"
      }
    },
    {
      "cell_type": "code",
      "source": [
        "# Import requests library to contact the REST service\n",
        "import requests\n",
        "# Import IPython library to produce Markdown\n",
        "import IPython\n",
        "\n",
        "# Create a requests Session\n",
        "session = requests.Session()\n",
        "\n",
        "# Set the default Accept header to `application/json`\n",
        "session.headers.update({'Accept': 'application/json'})\n",
        "\n",
        "# Make a request and store the response\n",
        "response = session.get(\n",
        "    'https://inventaris.onroerenderfgoed.be/erfgoedobjecten',\n",
        "    params = {\n",
        "        'gemeente': 31043,\n",
        "        'discipline': 2,\n",
        "        'rechtsgevolgen': 'beschermd'\n",
        "    }\n",
        ")\n",
        "\n",
        "# Remove the first 6 characters from the header (items )\n",
        "content_range = response.headers['Content-Range'][6:]\n",
        "# The part after the slash is the total number of results\n",
        "number_of_results = content_range.split('/')[1]\n",
        "\n",
        "# Turn the response's JSON data into a Python dictionary\n",
        "data = response.json()\n",
        "\n",
        "# Fetch all the other pages of results\n",
        "while 'next' in response.links:\n",
        "  # GET the url pointing to the next page\n",
        "  response = session.get(response.links['next']['url'])\n",
        "  # add the data from the next page to the data we're collecting\n",
        "  data.extend(response.json())\n",
        "\n",
        "#Generate output\n",
        "output = f\"**Showing {number_of_results} results**\\n\\n\"\n",
        "for erfgoedobject in data:\n",
        "  output += f\"* {erfgoedobject['naam']} ({erfgoedobject['uri']})\\n\"\n",
        "  output += f\"\\t* *Locatie:* {erfgoedobject['locatie_samenvatting']}\\n\"\n",
        "  output += f\"\\t* *Korte beschrijving:* {erfgoedobject['korte_beschrijving']}\\n\"\n",
        "\n",
        "\n",
        "IPython.display.Markdown(output)"
      ],
      "metadata": {
        "id": "Ns7Vz-0LiLvz"
      },
      "execution_count": null,
      "outputs": []
    }
  ]
}