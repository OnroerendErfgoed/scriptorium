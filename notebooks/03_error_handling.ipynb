{
  "nbformat": 4,
  "nbformat_minor": 0,
  "metadata": {
    "colab": {
      "name": "error_handling.ipynb",
      "provenance": [],
      "authorship_tag": "ABX9TyP6uwXcw5uie+s57SIG0Zq7",
      "include_colab_link": true
    },
    "kernelspec": {
      "name": "python3",
      "display_name": "Python 3"
    },
    "language_info": {
      "name": "python"
    }
  },
  "cells": [
    {
      "cell_type": "markdown",
      "metadata": {
        "id": "view-in-github",
        "colab_type": "text"
      },
      "source": [
        "<a href=\"https://colab.research.google.com/github/OnroerendErfgoed/scriptorium/blob/main/notebooks/03_error_handling.ipynb\" target=\"_parent\"><img src=\"https://colab.research.google.com/assets/colab-badge.svg\" alt=\"Open In Colab\"/></a>"
      ]
    },
    {
      "cell_type": "markdown",
      "source": [
        "#Where did we go wrong?\n",
        "\n",
        "As in life, things will go wrong sooner or later. Luckily REST services are built to handle errors gracefully. The main tool it uses for this is the HTTP Response Code. Every response we get from an HTTP server includes a status code. This status code tells us whether the request was succesfull or not and possibly why. All response codes are triple digit numbers. The first digit tells you in which broad category you are:\n",
        "\n",
        "* *200-299*: These response codes indicate success. By far the most common code in this category and probably the most common one of all is *200 OK*, signaling that all's well.\n",
        "* *300-399*: These response codes indicate redirection, telling the client the answer to their question can be found elsewhere.\n",
        "* *400-499*: These response codes indicate a client error, something the client might be able to fix be changing the request. Common errors in this category are:\n",
        " * *400 Bad Request*: Your request was unclear.\n",
        " * *404 Not Found*: The resource you're looking for does not exist.\n",
        " * *401 Unauthorized*: I can't send you the resource because I don't know who you are. Please authenticate first.\n",
        " * *403 Forbidden*: I can't send you the resource because I know who you are and you're not allowed to see the resource. Get more permissions.\n",
        "* *500-599*: These response codes indicate a server error. Something went wrong in the server and the client generally has not control over it. The most common error in this category is *500 Internal Server Error*.\n",
        "\n",
        "While there are a lot more error codes, you will do fine with the ones listed here. Remember, if it's starts with a 4, you should change. If it starts with a 5, the server is have issues and you can only wait a bit or contact the server administrator.\n",
        "\n",
        "For our examples, we'll use a different dataset. This time we'll use the (Beeldbank)[https://beeldbank.onroerenderfgoed.be]. Keep in mind that we're querying for the metadata about images here, not the actual images.\n",
        "\n",
        "#Does this resource exist?\n",
        "First, we'll go back to our [basic script](https://github.com/OnroerendErfgoed/scriptorium/blob/main/notebooks/01_get_resource.ipynb) that got a single resource at a time."
      ],
      "metadata": {
        "id": "f0qNjTspLZM7"
      }
    },
    {
      "cell_type": "code",
      "source": [
        "import requests\n",
        "import json\n",
        "\n",
        "# Make a request and store the response\n",
        "response = requests.get(\n",
        "    'https://id.erfgoed.net/afbeeldingen/409414',\n",
        "    headers = {'Accept': 'application/json'}\n",
        ")\n",
        "\n",
        "# Turn the response's JSON data into a Python dictionary\n",
        "data = response.json()\n",
        "\n",
        "# Print the response's JSON data\n",
        "print(json.dumps(data, sort_keys=True, indent=4))\n"
      ],
      "metadata": {
        "id": "93e9JhYWSgzG"
      },
      "execution_count": null,
      "outputs": []
    },
    {
      "cell_type": "markdown",
      "source": [
        "If we change the URI to an invalid URI (eg. by changing the `409414` to `a`), we'll trigger an error. And our script will terminate. We can handle this in a much cleaner way, allowing our script to keep running, even when there's an error."
      ],
      "metadata": {
        "id": "OROBhsLGSiGb"
      }
    },
    {
      "cell_type": "code",
      "source": [
        "import requests\n",
        "import json\n",
        "\n",
        "# Make a request and store the response\n",
        "response = requests.get(\n",
        "    'https://id.erfgoed.net/afbeeldingen/409414',\n",
        "    headers = {'Accept': 'application/json'}\n",
        ")\n",
        "\n",
        "# Check to see if the response was ok (HTTP code between 200 and 400)\n",
        "if response.ok:\n",
        "  # Turn the response's JSON data into a Python dictionary\n",
        "  data = response.json()\n",
        "\n",
        "  # Print the response's JSON data\n",
        "  print(json.dumps(data, sort_keys=True, indent=4))\n",
        "else:\n",
        "  print(f\"Something went wrong: {response.status_code} - {response.text}\")"
      ],
      "metadata": {
        "id": "uaqjvC60QpSr"
      },
      "execution_count": null,
      "outputs": []
    },
    {
      "cell_type": "markdown",
      "source": [
        "Another way of handling errors, is by throwing Exceptions. This basically tells the code to stop doing what it's doing and start asking for help. It's not that usefull in a small, standalone script, but it works very well when you're building a library and you're working with functions that are being called by other functions that are being called by ... This kind of error handling gives you a stacktrace, a path through all the code the Exception was thrown from."
      ],
      "metadata": {
        "id": "8U62eBzwT9jf"
      }
    },
    {
      "cell_type": "code",
      "source": [
        "import requests\n",
        "import json\n",
        "\n",
        "def get_url(url):\n",
        "  # Make a request and store the response\n",
        "  response = requests.get(\n",
        "      url,\n",
        "      headers = {'Accept': 'application/json'}\n",
        "  )\n",
        "  response.raise_for_status()\n",
        "  return response.json()\n",
        "\n",
        "url = 'https://id.erfgoed.net/afbeeldingen/409414'\n",
        "\n",
        "try:  \n",
        "  data = get_url(url)\n",
        "  # Print the response's JSON data\n",
        "  print(json.dumps(data, sort_keys=True, indent=4))\n",
        "except Exception as e:\n",
        "  print(f\"{e}: {e.response.status_code} - {e.response.text}\")"
      ],
      "metadata": {
        "id": "h-IJn6XfUd1e"
      },
      "execution_count": null,
      "outputs": []
    },
    {
      "cell_type": "markdown",
      "source": [
        "#Did I pass the right parameters?\n",
        "\n",
        "When using a REST collection and passing it parameters to filter or sort on, it's not uncommon for the server to reject certain parameters or certain parameter values. Eg. we can request all images created in a certain year, but what if that year does not exists or will clearly not have any data?"
      ],
      "metadata": {
        "id": "tMAMLK3TWvYa"
      }
    },
    {
      "cell_type": "code",
      "source": [
        "import requests\n",
        "import json\n",
        "\n",
        "def search(url, parameters):\n",
        "  # Make a request and store the response\n",
        "  response = requests.get(\n",
        "      url,\n",
        "      headers = {'Accept': 'application/json'},\n",
        "      params = parameters\n",
        "  )\n",
        "  response.raise_for_status()\n",
        "  return response.json()\n",
        "\n",
        "url = 'https://beeldbank.onroerenderfgoed.be/images'\n",
        "search_parameters = {\n",
        "  'year': 22000\n",
        "}\n",
        "\n",
        "try:  \n",
        "  data = search(url, search_parameters)\n",
        "  # Print the response's JSON data\n",
        "  print(json.dumps(data, sort_keys=True, indent=4))\n",
        "except Exception as e:\n",
        "  print(f\"{e}: {e.response.status_code} - {e.response.text}\")"
      ],
      "metadata": {
        "id": "LD_Syd9DXLN_",
        "outputId": "42ae3021-09b6-439b-8bc0-af09ce31a28a",
        "colab": {
          "base_uri": "https://localhost:8080/"
        }
      },
      "execution_count": 1,
      "outputs": [
        {
          "output_type": "stream",
          "name": "stdout",
          "text": [
            "400 Client Error: Bad Request for url: https://beeldbank.onroerenderfgoed.be/images?year=22000: 400 - {\"message\": \"ValueError('year 22000 is out of range')\"}\n"
          ]
        }
      ]
    },
    {
      "cell_type": "markdown",
      "source": [
        "# Conclusion\n",
        "\n",
        "By paying attention to the HTTP status codes and writing code expecting things to go wrong, we can write robust scripts that can keep running for hours. Quite often it's not a questing if something will go wrong, but when. Our scripts run on the internet and sometimes requests on the internet fail. There are however paradigms to deal with these errors.\n",
        "\n",
        "Having learned about [single resources](https://github.com/OnroerendErfgoed/scriptorium/blob/main/notebooks/01_get_resource.ipynb), [collections of resources](https://github.com/OnroerendErfgoed/scriptorium/blob/main/notebooks/02_get_collection.ipynb) and error handling, you can take a look at some more complicated notebooks that bring multiple topics together:\n",
        "* [heritage_by_address](https://github.com/OnroerendErfgoed/scriptorium/blob/main/notebooks/10_heritage_by_address.ipynb) This notebook explains how you can find all heritage within a certain range of a (Flemish) address.\n",
        "* [all_getty_skos_matches](https://github.com/OnroerendErfgoed/scriptorium/blob/main/notebooks/11_all_getty_skos_matches.ipynb) This notebook explains how to GET all concepts in the [Agentschap Onroerend Erfgoed Thesaurus](https://thesaurus.onroerenderfgoed.be) that are related to a concept in the [Getty AAT thesaurus](http://vocab.getty.edu/aat)."
      ],
      "metadata": {
        "id": "OOXrzSrSaYnL"
      }
    }
  ]
}