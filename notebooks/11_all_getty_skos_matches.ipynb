{
  "nbformat": 4,
  "nbformat_minor": 0,
  "metadata": {
    "colab": {
      "name": "Untitled1.ipynb",
      "provenance": [],
      "authorship_tag": "ABX9TyPdAQU7/pe7Yi4Ks2aBDB7Q",
      "include_colab_link": true
    },
    "kernelspec": {
      "name": "python3",
      "display_name": "Python 3"
    },
    "language_info": {
      "name": "python"
    }
  },
  "cells": [
    {
      "cell_type": "markdown",
      "metadata": {
        "id": "view-in-github",
        "colab_type": "text"
      },
      "source": [
        "<a href=\"https://colab.research.google.com/github/OnroerendErfgoed/scriptorium/blob/main/notebooks/11_all_getty_skos_matches.ipynb\" target=\"_parent\"><img src=\"https://colab.research.google.com/assets/colab-badge.svg\" alt=\"Open In Colab\"/></a>"
      ]
    },
    {
      "cell_type": "code",
      "execution_count": null,
      "metadata": {
        "id": "wORE0h0f7RMy"
      },
      "outputs": [],
      "source": [
        ""
      ]
    },
    {
      "cell_type": "markdown",
      "source": [
        "# DIY\n",
        "\n",
        "Sometimes the API doesn't exactly provide you with a filter or search parameter to do what you want. In those cases you might need to make more of an effort to get the results that you want, but because the data is all available, there's nothing you can't do with a little script.\n",
        "\n",
        "For this script we'll work with the [Onroerend Erfgoed Thesaurus](https://thesaurus.onroerenderfgoed.be). We'll use the Conceptscheme of `Erfgoedtypes` to see how many of them are linked to the Getty AAT thesaurus.\n",
        "\n",
        "The thesaurus API supports checking which concepts are linked to a certain AAT concept, but it does not support searching for all concepts that are linked to any AAT concept."
      ],
      "metadata": {
        "id": "LyLoihz67SBf"
      }
    },
    {
      "cell_type": "code",
      "source": [
        "import requests\n",
        "\n",
        "THESAURUS_HOST = 'https://thesaurus.onroerenderfgoed.be'\n",
        "ERFGOEDTYPES_URL = THESAURUS_HOST + '/conceptschemes/ERFGOEDTYPES/c'\n",
        "\n",
        "session = requests.Session()\n",
        "\n",
        "session.headers.update({'Accept': 'application/json'})\n",
        "\n",
        "res = session.get(\n",
        "    ERFGOEDTYPES_URL,\n",
        "    params={\n",
        "        'match': 'http://vocab.getty.edu/aat/300005241'\n",
        "    }\n",
        ")\n",
        "\n",
        "print(res.json())"
      ],
      "metadata": {
        "id": "bTXdNDVy8XLb"
      },
      "execution_count": null,
      "outputs": []
    },
    {
      "cell_type": "markdown",
      "source": [
        "The previous example works well, but we would like to see all concepts in this thesaurus that have a link to the AAT."
      ],
      "metadata": {
        "id": "t5_Vay76-tOc"
      }
    },
    {
      "cell_type": "code",
      "source": [
        "import requests\n",
        "\n",
        "THESAURUS_HOST = 'https://thesaurus.onroerenderfgoed.be'\n",
        "ERFGOEDTYPES_URL = THESAURUS_HOST + '/conceptschemes/ERFGOEDTYPES/c'\n",
        "\n",
        "session = requests.Session()\n",
        "\n",
        "session.headers.update({'Accept': 'application/json'})\n",
        "\n",
        "# Get all erfgoedtypes\n",
        "# This collection does not support pagination and always sends everything\n",
        "res = session.get(\n",
        "    ERFGOEDTYPES_URL,\n",
        "    params = {\n",
        "        'type': 'concept'\n",
        "    }\n",
        ")\n",
        "\n",
        "# Make sure everything went well\n",
        "res.raise_for_status()\n",
        "\n",
        "data = res.json()\n",
        "\n",
        "for concept in data:\n",
        "  conceptresponse = session.get(concept['uri'])\n",
        "  conceptresponse.raise_for_status()\n",
        "  conceptdetail = conceptresponse.json()\n",
        "  # Only look at concepts that have any matches at all\n",
        "  if conceptdetail['matches']:\n",
        "    print(conceptdetail['uri'])\n",
        "    for matchtype, matchvalue in conceptdetail['matches'].items():\n",
        "      print(f\"{matchtype} {matchvalue}\")"
      ],
      "metadata": {
        "id": "uA7UKfUg--nh"
      },
      "execution_count": null,
      "outputs": []
    }
  ]
}